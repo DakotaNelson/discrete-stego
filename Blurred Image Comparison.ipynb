{
 "cells": [
  {
   "cell_type": "code",
   "execution_count": 13,
   "metadata": {
    "collapsed": false
   },
   "outputs": [],
   "source": [
    "%matplotlib inline\n",
    "\n",
    "from compare_bmp import compare_images\n",
    "from PIL import Image, ImageFilter\n",
    "from matplotlib.pyplot import imshow"
   ]
  },
  {
   "cell_type": "markdown",
   "metadata": {},
   "source": [
    "We'll start with this image:\n",
    "![img1](images/original/image.bmp)"
   ]
  },
  {
   "cell_type": "code",
   "execution_count": 18,
   "metadata": {
    "collapsed": false
   },
   "outputs": [],
   "source": [
    "imgpath = 'images/original/image.bmp'\n",
    "blurredpath = 'images/image_blurred.bmp'\n",
    "\n",
    "img = Image.open(imgpath)\n",
    "blurred = img.copy().filter(ImageFilter.BLUR)\n",
    "\n",
    "blurred.save(blurredpath)"
   ]
  },
  {
   "cell_type": "markdown",
   "metadata": {},
   "source": [
    "And here it is now that we've blurred it:\n",
    "![img_blurred](images/image_blurred.bmp)\n",
    "\n",
    "Now, let's compare the two to see what kind of error rates we can expect:"
   ]
  },
  {
   "cell_type": "code",
   "execution_count": 19,
   "metadata": {
    "collapsed": false
   },
   "outputs": [
    {
     "name": "stdout",
     "output_type": "stream",
     "text": [
      "(500, 500, 3)\n",
      "Count of total number of bits flipped in each position for R, G, B\n",
      "[[8680, 18725, 38300, 62671, 85160, 99502, 112242, 121606], [8517, 17756, 37740, 63315, 84678, 98713, 110854, 121037], [3433, 16933, 38396, 64114, 85847, 99906, 112236, 121968]]\n",
      "Percentage of red bits flipped in each position\n",
      "[3.472, 7.489999999999999, 15.32, 25.0684, 34.064, 39.800799999999995, 44.8968, 48.6424]\n",
      "Percentage of green bits flipped in each position\n",
      "[3.4068, 7.1024, 15.096000000000002, 25.325999999999997, 33.8712, 39.4852, 44.3416, 48.4148]\n",
      "Percentage of blue bits flipped in each position\n",
      "[1.3732, 6.7732, 15.3584, 25.6456, 34.338800000000006, 39.962399999999995, 44.894400000000005, 48.7872]\n"
     ]
    }
   ],
   "source": [
    "[red_flipped, green_flipped, blue_flipped] = compare_images(imgpath, blurredpath)"
   ]
  },
  {
   "cell_type": "markdown",
   "metadata": {},
   "source": [
    "It looks like we can expect (in this scenario) a worst-case of about 50% of the image's least significant bits to be flipped."
   ]
  }
 ],
 "metadata": {
  "kernelspec": {
   "display_name": "Python 3",
   "language": "python",
   "name": "python3"
  },
  "language_info": {
   "codemirror_mode": {
    "name": "ipython",
    "version": 3
   },
   "file_extension": ".py",
   "mimetype": "text/x-python",
   "name": "python",
   "nbconvert_exporter": "python",
   "pygments_lexer": "ipython3",
   "version": "3.4.1"
  }
 },
 "nbformat": 4,
 "nbformat_minor": 0
}
