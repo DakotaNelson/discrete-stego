{
 "cells": [
  {
   "cell_type": "code",
   "execution_count": 172,
   "metadata": {
    "collapsed": false
   },
   "outputs": [],
   "source": [
    "%matplotlib inline\n",
    "\n",
    "from compare_bmp import compare_images\n",
    "from PIL import Image, ImageFilter\n",
    "from matplotlib.pyplot import imshow\n",
    "import numpy as np"
   ]
  },
  {
   "cell_type": "markdown",
   "metadata": {},
   "source": [
    "We'll start with this image:\n",
    "![img1](images/original/image.bmp)"
   ]
  },
  {
   "cell_type": "code",
   "execution_count": 173,
   "metadata": {
    "collapsed": false
   },
   "outputs": [
    {
     "name": "stdout",
     "output_type": "stream",
     "text": [
      "['0b1110100', '0b1101000', '0b1101001', '0b1110011', '0b100000', '0b1101001', '0b1110011', '0b100000', '0b1100001', '0b100000', '0b1101101', '0b1100101', '0b1110011', '0b1110011', '0b1100001', '0b1100111', '0b1100101']\n",
      "[['1', '1', '1', '0', '1', '0', '0'], ['1', '1', '0', '1', '0', '0', '0'], ['1', '1', '0', '1', '0', '0', '1'], ['1', '1', '1', '0', '0', '1', '1'], ['1', '0', '0', '0', '0', '0'], ['1', '1', '0', '1', '0', '0', '1'], ['1', '1', '1', '0', '0', '1', '1'], ['1', '0', '0', '0', '0', '0'], ['1', '1', '0', '0', '0', '0', '1'], ['1', '0', '0', '0', '0', '0'], ['1', '1', '0', '1', '1', '0', '1'], ['1', '1', '0', '0', '1', '0', '1'], ['1', '1', '1', '0', '0', '1', '1'], ['1', '1', '1', '0', '0', '1', '1'], ['1', '1', '0', '0', '0', '0', '1'], ['1', '1', '0', '0', '1', '1', '1'], ['1', '1', '0', '0', '1', '0', '1']]\n",
      "[1, 1, 1, 0, 1, 0, 0, 1, 1, 0, 1, 0, 0, 0, 1, 1, 0, 1, 0, 0, 1, 1, 1, 1, 0, 0, 1, 1, 1, 0, 0, 0, 0, 0, 1, 1, 0, 1, 0, 0, 1, 1, 1, 1, 0, 0, 1, 1, 1, 0, 0, 0, 0, 0, 1, 1, 0, 0, 0, 0, 1, 1, 0, 0, 0, 0, 0, 1, 1, 0, 1, 1, 0, 1, 1, 1, 0, 0, 1, 0, 1, 1, 1, 1, 0, 0, 1, 1, 1, 1, 1, 0, 0, 1, 1, 1, 1, 0, 0, 0, 0, 1, 1, 1, 0, 0, 1, 1, 1, 1, 1, 0, 0, 1, 0, 1]\n"
     ]
    }
   ],
   "source": [
    "# let's get our message set up\n",
    "message = list('this is a message')\n",
    "# convert to binary representation\n",
    "message = [bin(ord(x)) for x in message]\n",
    "print(message)\n",
    "# split the binary into \n",
    "message = [[bit for bit in x][2:] for x in message]\n",
    "print(message)\n",
    "# flatten it and convert to integers\n",
    "message = [int(bit) for sublist in message for bit in sublist]\n",
    "print(message)\n",
    "originalMessage = message"
   ]
  },
  {
   "cell_type": "code",
   "execution_count": 174,
   "metadata": {
    "collapsed": false,
    "scrolled": true
   },
   "outputs": [],
   "source": [
    "# first, open the original image and hide a message in it\n",
    "imgpath = 'images/original/image.bmp'\n",
    "\n",
    "img = Image.open(imgpath)\n",
    "\n",
    "# we'll use simple repetition as a very rudimentary ECC to try to maintain integrity\n",
    "# each bit of the message will be repeated 6 times - the two LSBs of the R,G, and B values of one pixel\n",
    "#imgArray = np.copy(np.asarray(img))[:1]\n",
    "imgArray = list(np.asarray(img))\n",
    "\n",
    "def set_bit(val, bitNo, bit):\n",
    "    \"\"\" given a value, which bit in the value to set, and the actual bit (0 or 1) to set, return the new value \"\"\"\n",
    "    mask = 1 << bitNo\n",
    "    val &= ~mask\n",
    "    if bit:\n",
    "        val |= mask\n",
    "    return val\n",
    "\n",
    "msgIndex = 0\n",
    "newImg = []\n",
    "\n",
    "for row in imgArray:\n",
    "    newRow = []\n",
    "    for pixel in row:\n",
    "        newPixel = []\n",
    "        for val in pixel:\n",
    "            # iterate through RGB values, one at a time\n",
    "            #print(bin(r))\n",
    "            if msgIndex >= len(message):\n",
    "                setTo = 0\n",
    "            else:\n",
    "                setTo = message[msgIndex]\n",
    "                msgIndex += 1\n",
    "            val = set_bit(val, 0, setTo)\n",
    "            val = set_bit(val, 1, setTo)\n",
    "            newPixel.append(val)\n",
    "        newRow.append(newPixel)\n",
    "    newImg.append(newRow)\n",
    "\n",
    "arr = np.array(newImg, np.uint8)\n",
    "im = Image.fromarray(arr)\n",
    "im.save(\"image_steg.bmp\")"
   ]
  },
  {
   "cell_type": "markdown",
   "metadata": {},
   "source": [
    "How does the image look now?\n",
    "\n",
    "![image with hidden data](image_steg.bmp)\n",
    "\n",
    "Awesome! Doesn't look like anything's wrong."
   ]
  },
  {
   "cell_type": "code",
   "execution_count": 175,
   "metadata": {
    "collapsed": true
   },
   "outputs": [],
   "source": [
    "# now let's blur the image to destroy some data\n",
    "blurredpath = 'image_blurred.bmp'\n",
    "\n",
    "img = Image.open(\"image_steg.bmp\")\n",
    "blurred = img.copy().filter(ImageFilter.BLUR)\n",
    "\n",
    "blurred.save(blurredpath)"
   ]
  },
  {
   "cell_type": "markdown",
   "metadata": {},
   "source": [
    "And here it is now that we've blurred it:\n",
    "![img_blurred](images/image_blurred.bmp)"
   ]
  },
  {
   "cell_type": "code",
   "execution_count": 176,
   "metadata": {
    "collapsed": false
   },
   "outputs": [],
   "source": [
    "# last, open the image and apply our ECC strategy to see if the message made it through\n",
    "\n",
    "blurredImg = Image.open(blurredpath)\n",
    "\n",
    "imgArray = list(np.asarray(blurredImg))\n",
    "\n",
    "message = []\n",
    "\n",
    "#for row in imgArray:\n",
    "row = imgArray[0]\n",
    "for pixel in row:\n",
    "    count = {\"0\": 0, \"1\": 0}\n",
    "    for val in pixel:\n",
    "        # iterate through RGB values, one at a time\n",
    "        #print(bin(r))\n",
    "        for i in [-1, -2]:\n",
    "            bit = int(bin(val)[i])\n",
    "            if bit == 0:\n",
    "                count[\"0\"] += 1\n",
    "            else:\n",
    "                count[\"1\"] += 1\n",
    "        if count[\"1\"] >= count[\"0\"]:\n",
    "            message.append(1)\n",
    "        else:\n",
    "            message.append(0)"
   ]
  },
  {
   "cell_type": "code",
   "execution_count": 177,
   "metadata": {
    "collapsed": false
   },
   "outputs": [
    {
     "name": "stdout",
     "output_type": "stream",
     "text": [
      "[116, 104, 105, 115, 32, 105, 115, 32, 97, 32, 109, 101, 115, 115, 97, 103, 101]\n",
      "[116, 104, 56, 113, 97, 83, 119, 67, 71, 6, 111, 63, 15, 95, 7, 62, 8, 0, 0, 0, 0, 0, 0, 0, 0, 0, 0, 0, 0, 0, 0, 0, 0, 0, 0, 0, 0, 0, 0, 0, 0, 0, 0, 0, 0, 0, 0, 0, 0, 0, 0, 0, 0, 0, 0, 0, 0, 0, 0, 0, 0, 0, 0, 0, 0, 0, 0, 0, 0, 0, 0, 0, 0, 0, 0, 0, 0, 0, 0, 0, 0, 0, 0, 0, 0, 0, 0, 0, 0, 0, 0, 0, 0, 0, 0, 0, 0, 0, 0, 0, 0, 0, 0, 0, 0, 0, 0, 0, 0, 0, 0, 0, 0, 0, 0, 0, 0, 0, 0, 0, 0, 0, 0, 0, 0, 0, 0, 0, 0, 0, 0, 0, 0, 0, 0, 0, 0, 0, 0, 0, 0, 0, 0, 0, 0, 0, 0, 0, 0, 0, 0, 0, 0, 0, 0, 0, 0, 0, 0, 0, 0, 0, 0, 0, 0, 0, 0, 0, 0, 0, 0, 0, 0, 0, 0, 0, 0, 0, 0, 0, 0, 0, 0, 0, 0, 0, 0, 0, 0, 0, 0, 0, 0, 0, 0, 0, 0, 0, 0, 0, 0, 0, 0, 0, 0, 0, 0, 0, 0, 0, 0, 0, 0, 0]\n",
      "ORIGINAL VS. OUTPUT\n",
      "===================\n",
      "this is a message\n",
      "th8qaSwCG\u0006o?\u000f_\u0007>\b\u0000\u0000\u0000\u0000\u0000\u0000\u0000\u0000\u0000\u0000\u0000\u0000\u0000\u0000\u0000\u0000\u0000\u0000\u0000\u0000\u0000\u0000\u0000\u0000\u0000\u0000\u0000\u0000\u0000\u0000\u0000\u0000\u0000\u0000\u0000\u0000\u0000\u0000\u0000\u0000\u0000\u0000\u0000\u0000\u0000\u0000\u0000\u0000\u0000\u0000\u0000\u0000\u0000\u0000\u0000\u0000\u0000\u0000\u0000\u0000\u0000\u0000\u0000\u0000\u0000\u0000\u0000\u0000\u0000\u0000\u0000\u0000\u0000\u0000\u0000\u0000\u0000\u0000\u0000\u0000\u0000\u0000\u0000\u0000\u0000\u0000\u0000\u0000\u0000\u0000\u0000\u0000\u0000\u0000\u0000\u0000\u0000\u0000\u0000\u0000\u0000\u0000\u0000\u0000\u0000\u0000\u0000\u0000\u0000\u0000\u0000\u0000\u0000\u0000\u0000\u0000\u0000\u0000\u0000\u0000\u0000\u0000\u0000\u0000\u0000\u0000\u0000\u0000\u0000\u0000\u0000\u0000\u0000\u0000\u0000\u0000\u0000\u0000\u0000\u0000\u0000\u0000\u0000\u0000\u0000\u0000\u0000\u0000\u0000\u0000\u0000\u0000\u0000\u0000\u0000\u0000\u0000\u0000\u0000\u0000\u0000\u0000\u0000\u0000\u0000\u0000\u0000\u0000\u0000\u0000\u0000\u0000\u0000\u0000\u0000\u0000\u0000\u0000\u0000\u0000\u0000\u0000\u0000\u0000\u0000\u0000\u0000\u0000\u0000\u0000\u0000\u0000\u0000\u0000\u0000\u0000\u0000\n"
     ]
    }
   ],
   "source": [
    "from math import floor\n",
    "# let's see what the message says!\n",
    "\n",
    "outputMessage = []\n",
    "\n",
    "originalMessage = list('this is a message')\n",
    "originalMessage = [ord(x) for x in originalMessage]\n",
    "\n",
    "for i in range(floor(len(message)/7)):\n",
    "    start = i * 7\n",
    "    # this is gross\n",
    "    char = message[start:start+7]\n",
    "    char = ''.join([str(c) for c in char])\n",
    "    outputMessage.append(int(char, 2))\n",
    "\n",
    "print(originalMessage)\n",
    "print(outputMessage)\n",
    "\n",
    "print(\"ORIGINAL VS. OUTPUT\")\n",
    "print(\"===================\")\n",
    "print(''.join([chr(c) for c in originalMessage]))\n",
    "print(''.join([chr(c) for c in outputMessage]))"
   ]
  }
 ],
 "metadata": {
  "kernelspec": {
   "display_name": "Python 3",
   "language": "python",
   "name": "python3"
  },
  "language_info": {
   "codemirror_mode": {
    "name": "ipython",
    "version": 3
   },
   "file_extension": ".py",
   "mimetype": "text/x-python",
   "name": "python",
   "nbconvert_exporter": "python",
   "pygments_lexer": "ipython3",
   "version": "3.4.1"
  }
 },
 "nbformat": 4,
 "nbformat_minor": 0
}
