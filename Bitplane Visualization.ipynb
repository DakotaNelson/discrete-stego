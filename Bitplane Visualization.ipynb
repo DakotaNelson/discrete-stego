{
 "cells": [
  {
   "cell_type": "code",
   "execution_count": 1,
   "metadata": {
    "collapsed": false
   },
   "outputs": [],
   "source": [
    "%matplotlib inline\n",
    "\n",
    "from compare_bmp import compare_images\n",
    "from PIL import Image, ImageFilter\n",
    "from matplotlib.pyplot import imshow\n",
    "import numpy as np"
   ]
  },
  {
   "cell_type": "markdown",
   "metadata": {},
   "source": [
    "We'll start with this image:\n",
    "![img1](images/original/image.bmp)"
   ]
  },
  {
   "cell_type": "code",
   "execution_count": 2,
   "metadata": {
    "collapsed": false,
    "scrolled": true
   },
   "outputs": [],
   "source": [
    "# first, open the original image and hide a message in it\n",
    "imgpath = 'images/original/image.bmp'\n",
    "\n",
    "img = Image.open(imgpath)\n",
    "\n",
    "# we'll use simple repetition as a very rudimentary ECC to try to maintain integrity\n",
    "# each bit of the message will be repeated 6 times - the two LSBs of the R,G, and B values of one pixel\n",
    "#imgArray = np.copy(np.asarray(img))[:1]\n",
    "imgArray = list(np.asarray(img))\n",
    "\n",
    "def set_bit(val, bitNo, bit):\n",
    "    \"\"\" given a value, which bit in the value to set, and the actual bit (0 or 1) to set, return the new value \"\"\"\n",
    "    mask = 1 << bitNo\n",
    "    val &= ~mask\n",
    "    if bit:\n",
    "        val |= mask\n",
    "    return val\n",
    "\n",
    "msgIndex = 0\n",
    "\n",
    "for toChange in range(1,9):\n",
    "    newImg = []\n",
    "    for row in imgArray:\n",
    "        newRow = []\n",
    "        for pixel in row:\n",
    "            newPixel = []\n",
    "            for val in pixel:\n",
    "                # iterate through RGB values, one at a time\n",
    "                \n",
    "                for i in range(1,toChange+1):\n",
    "                    val = set_bit(val, i, 0)\n",
    "                \n",
    "                newPixel.append(val)\n",
    "            newRow.append(newPixel)\n",
    "        newImg.append(newRow)\n",
    "\n",
    "    arr = np.array(newImg, np.uint8)\n",
    "    im = Image.fromarray(arr)\n",
    "    im.save(\"bitplane_demo_{}.bmp\".format(toChange))"
   ]
  },
  {
   "cell_type": "markdown",
   "metadata": {},
   "source": [
    "How does the image look now?\n",
    "\n",
    "![image with hidden data](image_steg.bmp)"
   ]
  }
 ],
 "metadata": {
  "kernelspec": {
   "display_name": "Python 3",
   "language": "python",
   "name": "python3"
  },
  "language_info": {
   "codemirror_mode": {
    "name": "ipython",
    "version": 3
   },
   "file_extension": ".py",
   "mimetype": "text/x-python",
   "name": "python",
   "nbconvert_exporter": "python",
   "pygments_lexer": "ipython3",
   "version": "3.4.1"
  }
 },
 "nbformat": 4,
 "nbformat_minor": 0
}
