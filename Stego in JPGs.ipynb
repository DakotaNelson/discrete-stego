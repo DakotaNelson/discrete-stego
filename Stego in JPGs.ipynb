{
 "cells": [
  {
   "cell_type": "markdown",
   "metadata": {},
   "source": [
    "Playing around with JPGs to see how we can hide data in them.\n",
    "\n",
    "Step 1: Can we modify and save a JPG, and still recover the data (i.e. still rely on our changes to appear correctly)?"
   ]
  },
  {
   "cell_type": "code",
   "execution_count": 5,
   "metadata": {
    "collapsed": true
   },
   "outputs": [],
   "source": [
    "import numpy as np\n",
    "from PIL import Image"
   ]
  },
  {
   "cell_type": "code",
   "execution_count": 49,
   "metadata": {
    "collapsed": false
   },
   "outputs": [],
   "source": [
    "img = Image.open('images/image.jpg') # open a generic jpg\n",
    "arr = np.asarray(img) # convert it to a np array"
   ]
  },
  {
   "cell_type": "code",
   "execution_count": 24,
   "metadata": {
    "collapsed": false
   },
   "outputs": [],
   "source": [
    "newarr = np.add([1], arr) # add 1 to each element of the array\n",
    "out = Image.fromarray(newarr.astype('uint8')) # save out our new array\n",
    "out.save(\"output.jpg\")"
   ]
  },
  {
   "cell_type": "code",
   "execution_count": 26,
   "metadata": {
    "collapsed": true
   },
   "outputs": [],
   "source": [
    "img2 = Image.open('output.jpg')\n",
    "arr2 = np.asarray(img2)"
   ]
  },
  {
   "cell_type": "code",
   "execution_count": 44,
   "metadata": {
    "collapsed": false
   },
   "outputs": [],
   "source": [
    "truearr = newarr == arr2 # creates array of t/f\n",
    "\n",
    "# fraction that have been flipped = # false / # total\n",
    "false_rate = (arr.size - np.count_nonzero(arr)) / arr.size"
   ]
  },
  {
   "cell_type": "code",
   "execution_count": 48,
   "metadata": {
    "collapsed": false
   },
   "outputs": [
    {
     "name": "stdout",
     "output_type": "stream",
     "text": [
      "Our false rate is 0.9242592592592592\n"
     ]
    }
   ],
   "source": [
    "print(\"Our false rate is {}\".format(false_rate * 100))"
   ]
  },
  {
   "cell_type": "markdown",
   "metadata": {},
   "source": [
    "In summary:\n",
    "\n",
    "When we add one to every element of an array (i.e. flip either the 1 or 2 least significant bits, at roughly 50% chance of either case), then save it as a JPG (which implies some compression), we end up with an error rate of 0.92% - at least, for specifically this image - when the image is reopened and compared against the original."
   ]
  }
 ],
 "metadata": {
  "kernelspec": {
   "display_name": "Python 3",
   "language": "python",
   "name": "python3"
  },
  "language_info": {
   "codemirror_mode": {
    "name": "ipython",
    "version": 3
   },
   "file_extension": ".py",
   "mimetype": "text/x-python",
   "name": "python",
   "nbconvert_exporter": "python",
   "pygments_lexer": "ipython3",
   "version": "3.4.1"
  }
 },
 "nbformat": 4,
 "nbformat_minor": 0
}
